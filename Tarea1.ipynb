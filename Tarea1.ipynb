{
  "nbformat": 4,
  "nbformat_minor": 0,
  "metadata": {
    "colab": {
      "provenance": [],
      "mount_file_id": "1d4vf5nKzgppOIdfJxnYlVJuGV2_GLCtE",
      "authorship_tag": "ABX9TyPdOYlj6O20X/G/mcSZ4BxY",
      "include_colab_link": true
    },
    "kernelspec": {
      "name": "python3",
      "display_name": "Python 3"
    },
    "language_info": {
      "name": "python"
    }
  },
  "cells": [
    {
      "cell_type": "markdown",
      "metadata": {
        "id": "view-in-github",
        "colab_type": "text"
      },
      "source": [
        "<a href=\"https://colab.research.google.com/github/IvanSalinas2000/Datos-Masivos/blob/main/Tarea1.ipynb\" target=\"_parent\"><img src=\"https://colab.research.google.com/assets/colab-badge.svg\" alt=\"Open In Colab\"/></a>"
      ]
    },
    {
      "cell_type": "markdown",
      "source": [
        "##Instalacion de Spark"
      ],
      "metadata": {
        "id": "KZO6zo_TEdak"
      }
    },
    {
      "cell_type": "code",
      "execution_count": 1,
      "metadata": {
        "id": "4GEMPs45-H2C",
        "colab": {
          "base_uri": "https://localhost:8080/"
        },
        "outputId": "d8adb546-840c-4ca0-ddbb-8b0e87ccf209"
      },
      "outputs": [
        {
          "output_type": "stream",
          "name": "stdout",
          "text": [
            "\u001b[33m\r0% [Working]\u001b[0m\r            \rGet:1 http://security.ubuntu.com/ubuntu jammy-security InRelease [129 kB]\n",
            "\u001b[33m\r0% [Connecting to archive.ubuntu.com (91.189.91.81)] [1 InRelease 0 B/129 kB 0%\u001b[0m\u001b[33m\r0% [Connecting to archive.ubuntu.com (91.189.91.81)] [Connected to cloud.r-proj\u001b[0m\r                                                                               \rGet:2 https://cloud.r-project.org/bin/linux/ubuntu jammy-cran40/ InRelease [3,626 B]\n",
            "\u001b[33m\r0% [Waiting for headers] [2 InRelease 0 B/3,626 B 0%] [Connecting to r2u.stat.i\u001b[0m\u001b[33m\r0% [Waiting for headers] [Connecting to r2u.stat.illinois.edu] [Waiting for hea\u001b[0m\r                                                                               \rGet:3 https://developer.download.nvidia.com/compute/cuda/repos/ubuntu2204/x86_64  InRelease [1,581 B]\n",
            "Hit:4 https://ppa.launchpadcontent.net/deadsnakes/ppa/ubuntu jammy InRelease\n",
            "Hit:5 https://ppa.launchpadcontent.net/graphics-drivers/ppa/ubuntu jammy InRelease\n",
            "Hit:6 http://archive.ubuntu.com/ubuntu jammy InRelease\n",
            "Hit:7 https://ppa.launchpadcontent.net/ubuntugis/ppa/ubuntu jammy InRelease\n",
            "Get:8 http://archive.ubuntu.com/ubuntu jammy-updates InRelease [128 kB]\n",
            "Get:9 http://security.ubuntu.com/ubuntu jammy-security/restricted amd64 Packages [3,113 kB]\n",
            "Get:10 http://security.ubuntu.com/ubuntu jammy-security/main amd64 Packages [2,318 kB]\n",
            "Get:11 http://security.ubuntu.com/ubuntu jammy-security/universe amd64 Packages [1,156 kB]\n",
            "Ign:12 https://r2u.stat.illinois.edu/ubuntu jammy InRelease\n",
            "Get:13 http://archive.ubuntu.com/ubuntu jammy-backports InRelease [127 kB]\n",
            "Get:14 https://developer.download.nvidia.com/compute/cuda/repos/ubuntu2204/x86_64  Packages [1,001 kB]\n",
            "Get:15 https://r2u.stat.illinois.edu/ubuntu jammy Release [5,713 B]\n",
            "Get:16 https://r2u.stat.illinois.edu/ubuntu jammy Release.gpg [793 B]\n",
            "Get:17 http://archive.ubuntu.com/ubuntu jammy-updates/main amd64 Packages [2,595 kB]\n",
            "Get:18 https://r2u.stat.illinois.edu/ubuntu jammy/main all Packages [8,354 kB]\n",
            "Get:19 http://archive.ubuntu.com/ubuntu jammy-updates/restricted amd64 Packages [3,191 kB]\n",
            "Get:20 http://archive.ubuntu.com/ubuntu jammy-updates/universe amd64 Packages [1,444 kB]\n",
            "Get:21 http://archive.ubuntu.com/ubuntu jammy-backports/main amd64 Packages [111 kB]\n",
            "Get:22 http://archive.ubuntu.com/ubuntu jammy-backports/universe amd64 Packages [36.9 kB]\n",
            "Get:23 https://r2u.stat.illinois.edu/ubuntu jammy/main amd64 Packages [2,587 kB]\n",
            "Fetched 26.3 MB in 3s (7,601 kB/s)\n",
            "Reading package lists... Done\n",
            "Building dependency tree... Done\n",
            "Reading state information... Done\n",
            "53 packages can be upgraded. Run 'apt list --upgradable' to see them.\n",
            "\u001b[1;33mW: \u001b[0mSkipping acquire of configured file 'main/source/Sources' as repository 'https://r2u.stat.illinois.edu/ubuntu jammy InRelease' does not seem to provide it (sources.list entry misspelt?)\u001b[0m\n",
            "Collecting pyspark\n",
            "  Downloading pyspark-3.5.3.tar.gz (317.3 MB)\n",
            "\u001b[2K     \u001b[90m━━━━━━━━━━━━━━━━━━━━━━━━━━━━━━━━━━━━━━━━\u001b[0m \u001b[32m317.3/317.3 MB\u001b[0m \u001b[31m3.8 MB/s\u001b[0m eta \u001b[36m0:00:00\u001b[0m\n",
            "\u001b[?25h  Preparing metadata (setup.py) ... \u001b[?25l\u001b[?25hdone\n",
            "Requirement already satisfied: py4j==0.10.9.7 in /usr/local/lib/python3.10/dist-packages (from pyspark) (0.10.9.7)\n",
            "Building wheels for collected packages: pyspark\n",
            "  Building wheel for pyspark (setup.py) ... \u001b[?25l\u001b[?25hdone\n",
            "  Created wheel for pyspark: filename=pyspark-3.5.3-py2.py3-none-any.whl size=317840625 sha256=9d5d104f706f1b1fd40caab77575516fc93be10ae68a916c4c66ca4551d0b009\n",
            "  Stored in directory: /root/.cache/pip/wheels/1b/3a/92/28b93e2fbfdbb07509ca4d6f50c5e407f48dce4ddbda69a4ab\n",
            "Successfully built pyspark\n",
            "Installing collected packages: pyspark\n",
            "Successfully installed pyspark-3.5.3\n",
            "Requirement already satisfied: py4j in /usr/local/lib/python3.10/dist-packages (0.10.9.7)\n"
          ]
        }
      ],
      "source": [
        "!sudo apt update\n",
        "!apt-get install openjdk-8-jdk-headless -qq > /dev/null\n",
        "#Check this site for the latest download link https://www.apache.org/dyn/closer.lua/spark/spark-3.2.1/spark-3.2.1-bin-hadoop3.2.tgz\n",
        "!wget -q https://archive.apache.org/dist/spark/spark-3.2.1/spark-3.2.1-bin-hadoop3.2.tgz\n",
        "!tar xf spark-3.2.1-bin-hadoop3.2.tgz\n",
        "!pip install -q findspark\n",
        "!pip install pyspark\n",
        "!pip install py4j\n",
        "\n",
        "import os\n",
        "import sys\n",
        "\n",
        "import findspark\n",
        "findspark.init()\n",
        "findspark.find()\n",
        "\n",
        "import pyspark\n",
        "\n",
        "from pyspark.sql import DataFrame, SparkSession\n",
        "from typing import List\n",
        "import pyspark.sql.types as T\n",
        "import pyspark.sql.functions as F\n",
        "\n",
        "spark= SparkSession.builder.appName(\"Tarea 1\").getOrCreate()"
      ]
    },
    {
      "cell_type": "markdown",
      "source": [
        "#VALIDACION DE SPARK\n",
        "\n"
      ],
      "metadata": {
        "id": "ZeQxg2DaEW-i"
      }
    },
    {
      "cell_type": "code",
      "source": [
        "spark"
      ],
      "metadata": {
        "id": "QlP4nOwJEXyp",
        "colab": {
          "base_uri": "https://localhost:8080/",
          "height": 219
        },
        "outputId": "2c46301c-0bde-434a-868c-77c85d896bdd"
      },
      "execution_count": 2,
      "outputs": [
        {
          "output_type": "execute_result",
          "data": {
            "text/plain": [
              "<pyspark.sql.session.SparkSession at 0x79c231396dd0>"
            ],
            "text/html": [
              "\n",
              "            <div>\n",
              "                <p><b>SparkSession - in-memory</b></p>\n",
              "                \n",
              "        <div>\n",
              "            <p><b>SparkContext</b></p>\n",
              "\n",
              "            <p><a href=\"http://f378087a0d00:4040\">Spark UI</a></p>\n",
              "\n",
              "            <dl>\n",
              "              <dt>Version</dt>\n",
              "                <dd><code>v3.5.3</code></dd>\n",
              "              <dt>Master</dt>\n",
              "                <dd><code>local[*]</code></dd>\n",
              "              <dt>AppName</dt>\n",
              "                <dd><code>Tarea 1</code></dd>\n",
              "            </dl>\n",
              "        </div>\n",
              "        \n",
              "            </div>\n",
              "        "
            ]
          },
          "metadata": {},
          "execution_count": 2
        }
      ]
    },
    {
      "cell_type": "markdown",
      "source": [
        "##Conjunto de datos propuesto\n",
        "\n",
        "#Phishing URL Detection\n",
        "\n",
        "Este conjunto de datos consiste en aproximadamente 2.5 millones de muestras de URLs etiquetadas como legítimas o de phishing, tomadas de los principales repositorios de URLs de phishing (PhishTank, Phishing.Database, OpenPhish-Community) y sitios de clasificación de URLs (Cisco Umbrella Popularity List, The Majestic Million). También contiene 15 de los atributos más relevantes en la detección de phishing.\n",
        "\n",
        "Los datos con los que se trabajara a lo largo del tetramestre seran los de 2.5 millones de registros de diferentes paginas web, se desea cear un modelo que sea capaz de diferenciar cuantas son de origen seguro y cuales tienen riesgo de phishing. El peso del archivo con los datos es de 2GB por lo que se cargó en google drive para poder trabajar desde colab.\n",
        "\n"
      ],
      "metadata": {
        "id": "gLP0ZTbsc7kB"
      }
    },
    {
      "cell_type": "markdown",
      "source": [
        "##LECTURA DE DATOS"
      ],
      "metadata": {
        "id": "AJlMwgn9Uqcm"
      }
    },
    {
      "cell_type": "code",
      "source": [
        "# Especifica la ruta del archivo\n",
        "file_path = '/content/drive/MyDrive/Maestria/DatosMasivos/urlData.csv'\n",
        "\n",
        "# Leer el archivo CSV\n",
        "df = spark.read.csv(file_path, header=True, inferSchema=True)\n",
        "\n",
        "# Mostrar las primeras filas del DataFrame\n",
        "df.show()\n"
      ],
      "metadata": {
        "colab": {
          "base_uri": "https://localhost:8080/"
        },
        "id": "zOsCsBYxUn4v",
        "outputId": "485cbf45-fb93-4993-c104-c0ad3799bddd"
      },
      "execution_count": 3,
      "outputs": [
        {
          "output_type": "stream",
          "name": "stdout",
          "text": [
            "+--------------------+--------------+----------+----------+--------------+------------------+------------+------------------+---------+--------+----------+---------+-----------------+---------------+------------------+------------------+--------------------+---------------+\n",
            "|                 url|        source|     label|url_length|starts_with_ip|       url_entropy|has_punycode|digit_letter_ratio|dot_count|at_count|dash_count|tld_count|domain_has_digits|subdomain_count|  nan_char_entropy|has_internal_links|          whois_data|domain_age_days|\n",
            "+--------------------+--------------+----------+----------+--------------+------------------+------------+------------------+---------+--------+----------+---------+-----------------+---------------+------------------+------------------+--------------------+---------------+\n",
            "|apaceast.cloudgue...|Cisco-Umbrella|legitimate|        45|         False|  3.92453476270788|       False|               0.0|        4|       0|         0|        0|            false|              3|0.3103869418959711|             false|{'domain_name': [...|         8250.0|\n",
            "|   quintadonoval.com|      Majestic|legitimate|        17|         False| 3.572469458770136|       False|               0.0|        1|       0|         0|        0|            false|              0|0.2404389906617847|             false|{'domain_name': [...|        10106.0|\n",
            "|    nomadfactory.com|      Majestic|legitimate|        16|         False| 3.327819531114783|       False|               0.0|        1|       0|         0|        0|            false|              0|              0.25|             false|{'domain_name': [...|         8111.0|\n",
            "|    tvarenasport.com|      Majestic|legitimate|        16|         False|               3.5|       False|               0.0|        1|       0|         0|        0|            false|              0|              0.25|             false|{'domain_name': [...|         5542.0|\n",
            "|widget.cluster.gr...|Cisco-Umbrella|legitimate|        27|         False| 3.930270372293455|       False|               0.0|        3|       0|         0|        0|            false|              2|0.3522138890491458|             false|{'domain_name': '...|         5098.0|\n",
            "|   haymarketbeer.com|      Majestic|legitimate|        17|         False|3.4548223999466066|       False|               0.0|        1|       0|         0|        0|            false|              0|0.2404389906617847|             false|{'domain_name': '...|         5455.0|\n",
            "|  oslosportslager.no|      Majestic|legitimate|        18|         False|3.2390979179887864|       False|               0.0|        1|       0|         0|        0|            false|              0|0.2316625000801284|             false|{'domain_name': '...|         9064.0|\n",
            "|cloudshell.me-sou...|Cisco-Umbrella|legitimate|        36|         False|3.9193819456463705|       False|0.0344827586206896|        4|       0|         2|        0|            false|              3|0.3522138890491458|             false|{'domain_name': [...|        10904.0|\n",
            "|bunkrstatic.b-cdn...|Cisco-Umbrella|legitimate|        21|         False|3.6537567082870015|       False|               0.0|        2|       0|         1|        0|            false|              1|0.3230778497884533|             false|{'domain_name': '...|         3058.0|\n",
            "|   yourdailydish.com|      Majestic|legitimate|        17|         False| 3.616874605956223|       False|               0.0|        1|       0|         0|        0|            false|              0|0.2404389906617847|             false|{'domain_name': [...|         3533.0|\n",
            "|    trentemoller.com|      Majestic|legitimate|        16|         False| 3.077819531114783|       False|               0.0|        1|       0|         0|        0|            false|              0|              0.25|             false|{'domain_name': [...|         7450.0|\n",
            "|           coveto.de|      Majestic|legitimate|         9|         False| 2.725480556997868|       False|               0.0|        1|       0|         0|        0|            false|              0|0.3522138890491458|             false|{'domain_name': '...|           NULL|\n",
            "|offertracking.vuc...|Cisco-Umbrella|legitimate|        24|         False|3.9701755214643457|       False|               0.0|        2|       0|         0|        0|            false|              1|0.2987468750600963|             false|{'domain_name': [...|         7389.0|\n",
            "|            fllt.org|      Majestic|legitimate|         8|         False|              2.75|       False|               0.0|        1|       0|         0|        0|            false|              0|             0.375|             false|{'domain_name': '...|         8993.0|\n",
            "|             revn.jp|      Majestic|legitimate|         7|         False|2.8073549220576046|       False|               0.0|        1|       0|         0|        0|            false|              0|0.4010507031510864|             false|{'domain_name': '...|         7415.0|\n",
            "|ldcws.pcpf.panaso...|Cisco-Umbrella|legitimate|        24|         False|3.5220552088742005|       False|               0.0|        3|       0|         0|        0|            false|              2|             0.375|             false|{'domain_name': [...|        12528.0|\n",
            "|  aarohamresorts.com|      Majestic|legitimate|        18|         False| 3.155221528859512|       False|               0.0|        1|       0|         0|        0|            false|              0|0.2316625000801284|             false|{'domain_name': [...|         2111.0|\n",
            "| gccbusinessnews.com|      Majestic|legitimate|        19|         False|3.3660913291191936|       False|               0.0|        1|       0|         0|        0|            false|              0|0.2235751322865045|             false|{'domain_name': '...|         3495.0|\n",
            "|accounting-simpli...|      Majestic|legitimate|        25|         False| 3.893660689688185|       False|               0.0|        1|       0|         1|        0|            false|              0| 0.185754247590989|             false|{'domain_name': '...|         4801.0|\n",
            "|      ege.sdamgia.ru|Cisco-Umbrella|legitimate|        14|         False| 3.235926350629033|       False|               0.0|        2|       0|         0|        0|            false|              1|0.4010507031510864|             false|{'domain_name': N...|           NULL|\n",
            "+--------------------+--------------+----------+----------+--------------+------------------+------------+------------------+---------+--------+----------+---------+-----------------+---------------+------------------+------------------+--------------------+---------------+\n",
            "only showing top 20 rows\n",
            "\n"
          ]
        }
      ]
    },
    {
      "cell_type": "markdown",
      "source": [
        "#Estadisticas descriptivas basicas"
      ],
      "metadata": {
        "id": "ec23uVU9XA0i"
      }
    },
    {
      "cell_type": "code",
      "source": [
        "#Summary stats\n",
        "df.describe().show()"
      ],
      "metadata": {
        "colab": {
          "base_uri": "https://localhost:8080/"
        },
        "id": "MM5LnFI7XHfi",
        "outputId": "28f5aea2-1728-425a-9138-cc3ee0bb0791"
      },
      "execution_count": 4,
      "outputs": [
        {
          "output_type": "stream",
          "name": "stdout",
          "text": [
            "+-------+--------+------------------+--------------------+--------------------+-----------------+------------------+------------+-------------------+------------------+------------------+------------------+-------------------+------------------+-------------------+--------------------+------------------+\n",
            "|summary|     url|            source|               label|          url_length|   starts_with_ip|       url_entropy|has_punycode| digit_letter_ratio|         dot_count|          at_count|        dash_count|          tld_count|   subdomain_count|   nan_char_entropy|          whois_data|   domain_age_days|\n",
            "+-------+--------+------------------+--------------------+--------------------+-----------------+------------------+------------+-------------------+------------------+------------------+------------------+-------------------+------------------+-------------------+--------------------+------------------+\n",
            "|  count| 3883028|           2576453|             2501185|             2500220|          2500106|           2500041|     2500009|            2500000|           2500000|           2500000|           2500000|            2500000|           2500000|            2500000|             1954700|           1707128|\n",
            "|   mean|    NULL| 5666.017803105604|              982.95|  45.899719720336336|             94.7|3.9080439695804072|        NULL| 0.1168567173788733|          2.174582|         0.0114184|          0.741054|          0.0392328|         0.7777008|0.46516018685512384|                NULL| 4836.990160092287|\n",
            "| stddev|    NULL|3507.7445944197975|  223.83040454772893|   80.58592403255369|200.9826139523295|0.6405950473948581|        NULL|0.24514477572194696|1.7363795470119914|0.1407409963892937|1.6627092574845515|0.39050947287258014|1.1032571561290232| 0.1880023404015409|                NULL|3337.4640974230706|\n",
            "|    min|    \"\"\"\"|                  |        Gangnam-gu\"\"|                   1|              6\"\"|               -\"\"|  Bundang-gu|           &nbsp;\"\"|                 0|                 0|                 0|                  0|                 0|                0.0|\"{'domain_id': '4...|                  |\n",
            "|    max|      }\"|  webmaster@ine.pt|teresa.calabaca@l...|solverde202106@gm...|             True|           China\"\"|        True|              9.375|               211|                32|               322|                 65|                43| 1.9015038199051828|{'domain_name_id'...|            ltd.\"\"|\n",
            "+-------+--------+------------------+--------------------+--------------------+-----------------+------------------+------------+-------------------+------------------+------------------+------------------+-------------------+------------------+-------------------+--------------------+------------------+\n",
            "\n"
          ]
        }
      ]
    },
    {
      "cell_type": "code",
      "source": [
        "# Mostrar el esquema del DataFrame\n",
        "df.printSchema()"
      ],
      "metadata": {
        "colab": {
          "base_uri": "https://localhost:8080/"
        },
        "id": "Sn3IHIKkbjic",
        "outputId": "1bb820af-b83f-405f-9636-f665ad1391a2"
      },
      "execution_count": 7,
      "outputs": [
        {
          "output_type": "stream",
          "name": "stdout",
          "text": [
            "root\n",
            " |-- url: string (nullable = true)\n",
            " |-- source: string (nullable = true)\n",
            " |-- label: string (nullable = true)\n",
            " |-- url_length: string (nullable = true)\n",
            " |-- starts_with_ip: string (nullable = true)\n",
            " |-- url_entropy: string (nullable = true)\n",
            " |-- has_punycode: string (nullable = true)\n",
            " |-- digit_letter_ratio: string (nullable = true)\n",
            " |-- dot_count: integer (nullable = true)\n",
            " |-- at_count: integer (nullable = true)\n",
            " |-- dash_count: integer (nullable = true)\n",
            " |-- tld_count: integer (nullable = true)\n",
            " |-- domain_has_digits: boolean (nullable = true)\n",
            " |-- subdomain_count: integer (nullable = true)\n",
            " |-- nan_char_entropy: double (nullable = true)\n",
            " |-- has_internal_links: boolean (nullable = true)\n",
            " |-- whois_data: string (nullable = true)\n",
            " |-- domain_age_days: string (nullable = true)\n",
            "\n"
          ]
        }
      ]
    },
    {
      "cell_type": "code",
      "source": [
        "\n",
        "# Contar el número de filas\n",
        "print(f\"Total de filas: {df.count()}\")"
      ],
      "metadata": {
        "colab": {
          "base_uri": "https://localhost:8080/"
        },
        "id": "oC5GwyrscaP7",
        "outputId": "2a6144ff-d92c-4dc2-d974-b4de4d3eb285"
      },
      "execution_count": 8,
      "outputs": [
        {
          "output_type": "stream",
          "name": "stdout",
          "text": [
            "Total de filas: 3883029\n"
          ]
        }
      ]
    }
  ]
}